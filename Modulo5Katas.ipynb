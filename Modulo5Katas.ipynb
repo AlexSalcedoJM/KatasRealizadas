{
 "cells": [
  {
   "cell_type": "markdown",
   "metadata": {},
   "source": [
    "### Ejercicio1"
   ]
  },
  {
   "cell_type": "code",
   "execution_count": 2,
   "metadata": {},
   "outputs": [
    {
     "name": "stdout",
     "output_type": "stream",
     "text": [
      "Distancia entre la Tierra y Júpiter, en kilómetros: 628949330 km\n",
      "Distancia entre la Tierra y Júpiter, en millas: 390577534 mi\n"
     ]
    }
   ],
   "source": [
    "# Calcular la distancia entre planetas\n",
    "\n",
    "jupiter = 778547200\n",
    "tierra = 149597870\n",
    "\n",
    "dis_jup_tierr = jupiter - tierra\n",
    "millas = round(dis_jup_tierr * 0.621)\n",
    "print('Distancia entre la Tierra y Júpiter, en kilómetros: {} km'.format(dis_jup_tierr))\n",
    "print('Distancia entre la Tierra y Júpiter, en millas: {} mi'.format(millas))"
   ]
  },
  {
   "cell_type": "markdown",
   "metadata": {},
   "source": [
    "### Ejercicio 2 "
   ]
  },
  {
   "cell_type": "code",
   "execution_count": 17,
   "metadata": {},
   "outputs": [
    {
     "name": "stdout",
     "output_type": "stream",
     "text": [
      "1375600000\n",
      "854247600.0\n"
     ]
    }
   ],
   "source": [
    "# Almacenar las entradas del usuario\n",
    "# Convierte las cadenas de ambos planetas a números enteros\n",
    "# Realizar el cálculo y determinar el valor absoluto\n",
    "# Convertir de KM a Millas\n",
    "\n",
    "planeta1 = int(input('Ingrese la distancia en km del primer planeta: '))\n",
    "planeta2 = int(input('Ingresa la distancia en km del segundo planeta: '))\n",
    "\n",
    "distancia_km = planeta1 - planeta2\n",
    "print(abs(distancia_km))\n",
    "\n",
    "distancia_mi = distancia_km * 0.621\n",
    "print(abs(distancia_mi))\n"
   ]
  }
 ],
 "metadata": {
  "interpreter": {
   "hash": "805b1454222fef596c737ad5cce137249c27489b998899e007b5a81779dcaf73"
  },
  "kernelspec": {
   "display_name": "Python 3.10.2 64-bit (windows store)",
   "language": "python",
   "name": "python3"
  },
  "language_info": {
   "codemirror_mode": {
    "name": "ipython",
    "version": 3
   },
   "file_extension": ".py",
   "mimetype": "text/x-python",
   "name": "python",
   "nbconvert_exporter": "python",
   "pygments_lexer": "ipython3",
   "version": "3.10.2"
  },
  "orig_nbformat": 4
 },
 "nbformat": 4,
 "nbformat_minor": 2
}
