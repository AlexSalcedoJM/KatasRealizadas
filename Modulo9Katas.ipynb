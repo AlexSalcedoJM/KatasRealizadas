{
 "cells": [
  {
   "cell_type": "code",
   "execution_count": 2,
   "metadata": {},
   "outputs": [
    {
     "name": "stdout",
     "output_type": "stream",
     "text": [
      "Informe de combustible:\n",
      "    Promedio total: 110.0%\n",
      "    Tanque principal: 115%\n",
      "    Tanque externo: 100%\n",
      "    Tanque de emergencia: 115%\n",
      "    \n"
     ]
    }
   ],
   "source": [
    "# Función para leer 3 tanques de combustible y muestre el promedio\n",
    "def reporte_de_tanques(tanque_interno, tanque_externo, tanque_de_emergencia):\n",
    "    promedio = (tanque_interno + tanque_externo + tanque_de_emergencia) / 3 \n",
    "    return f\"\"\"Informe de combustible:\n",
    "    Promedio total: {promedio}%\n",
    "    Tanque interno: {tanque_interno}%\n",
    "    Tanque externo: {tanque_externo}%\n",
    "    Tanque de emergencia: {tanque_de_emergencia}%\n",
    "    \"\"\"\n",
    "\n",
    "\n",
    "# Llamamos a la función que genera el reporte print(funcion(tanque1, tanque2, tanque3))\n",
    "print(reporte_de_tanques(115, 100, 115))\n",
    "\n",
    "# Función promedio \n",
    "\n",
    "def promedio(tanque):\n",
    "    total = sum(tanque)\n",
    "    numero_de_tanques = len(tanque)\n",
    "    return total / numero_de_tanques\n",
    "\n",
    "# Actualiza la función\n",
    "\n",
    "def reporte_de_tanques(tanque_interno, tanque_externo, tanque_de_emergencia):\n",
    "    return f\"\"\"Informe de combustible:\n",
    "    Promedio total: {promedio([tanque_interno, tanque_externo, tanque_de_emergencia])}%\n",
    "    Tanque interno: {tanque_interno}%\n",
    "    Tanque externo: {tanque_externo}%\n",
    "    Tanque de emergencia: {tanque_de_emergencia}%\n",
    "    \"\"\"\n",
    "\n",
    "\n"
   ]
  },
  {
   "cell_type": "markdown",
   "metadata": {},
   "source": [
    "#  Ejercicio 2"
   ]
  },
  {
   "cell_type": "code",
   "execution_count": null,
   "metadata": {},
   "outputs": [],
   "source": [
    "# Función con un informe preciso de la misión. Considera hora de prelanzamiento, tiempo de vuelo, destino, tanque externo y tanque interno\n",
    "\n",
    "def reporte_de_la_misión(hora_prelanzamiento, tiempo_de_vuelo, destino, tanque_externo, tanque_interno):\n",
    "    return f\"\"\"\n",
    "    Misión a {destino}\n",
    "    Tiempo total de viaje: {hora_prelanzamiento + tiempo_de_vuelo} minutos\n",
    "    Combustible total restantes: {tanque_externo + tanque_interno} galones\n",
    "    \"\"\"\n",
    "\n",
    "print(reporte_de_la_misión(14, 51, \"Luna\", 200000, 300000))"
   ]
  },
  {
   "cell_type": "code",
   "execution_count": 4,
   "metadata": {},
   "outputs": [
    {
     "name": "stdout",
     "output_type": "stream",
     "text": [
      "\n",
      "    Misión a Luna\n",
      "    Tiempo total de viaje: 76 minutos\n",
      "    Combustible tototal restantes: 500000\n",
      "    \n"
     ]
    }
   ],
   "source": [
    "# Escribe tu nueva función de reporte considerando lo anterior\n",
    "\n",
    "def reporte_de_la_misión(destino, *minutos, **deposito_de_combustible):\n",
    "    return f\"\"\"\n",
    "    Misión a {destino}\n",
    "    Tiempo total de viaje: {sum(minutos)} minutos\n",
    "    Combustible total restantes: {sum(deposito_de_combustible.values())}\n",
    "    \"\"\"\n",
    "\n",
    "print(reporte_de_la_misión('Luna', 10, 15, 51, interno=300000, externo=200000))\n"
   ]
  },
  {
   "cell_type": "code",
   "execution_count": 5,
   "metadata": {},
   "outputs": [
    {
     "name": "stdout",
     "output_type": "stream",
     "text": [
      "\n",
      "    Misión a Luna\n",
      "    Tiempo total de viaje: 74 minutos\n",
      "    Combustible total restante: 500000\n",
      "    En el tanque interno quedan 300000 galones\n"
     ]
    }
   ],
   "source": [
    "# Escribe tu nueva función\n",
    "\n",
    "def reporte_de_la_misión(destino, *minutos, **deposito_de_combustible):\n",
    "    reporte_principal = f\"\"\"\n",
    "    Misión a {destino}\n",
    "    Tiempo total de viaje: {sum(minutos)} minutos\n",
    "    Combustible total restante: {sum(deposito_de_combustible.values())}\n",
    "    \"\"\"\n",
    "    for nombre_del_tanque, galones in deposito_de_combustible.items():\n",
    "        reporte_principal += f\"En el tanque {nombre_del_tanque} quedan {galones} galones\"\n",
    "        return reporte_principal\n",
    "\n",
    "print(reporte_de_la_misión('Luna', 8, 11, 55, interno=300000, externo=200000))"
   ]
  }
 ],
 "metadata": {
  "interpreter": {
   "hash": "805b1454222fef596c737ad5cce137249c27489b998899e007b5a81779dcaf73"
  },
  "kernelspec": {
   "display_name": "Python 3.10.2 64-bit (windows store)",
   "language": "python",
   "name": "python3"
  },
  "language_info": {
   "codemirror_mode": {
    "name": "ipython",
    "version": 3
   },
   "file_extension": ".py",
   "mimetype": "text/x-python",
   "name": "python",
   "nbconvert_exporter": "python",
   "pygments_lexer": "ipython3",
   "version": "3.10.2"
  },
  "orig_nbformat": 4
 },
 "nbformat": 4,
 "nbformat_minor": 2
}
