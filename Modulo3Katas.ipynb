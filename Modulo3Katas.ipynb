{
 "cells": [
  {
   "cell_type": "code",
   "execution_count": 1,
   "metadata": {},
   "outputs": [
    {
     "name": "stdout",
     "output_type": "stream",
     "text": [
      "¡ADVERTENCIA!, ¡Un asteroide se aproxima a gran velocidad a la tierra!\n"
     ]
    }
   ],
   "source": [
    "#Ejercicio 1\n",
    "#Un asteroide se acerca, y viaja a una velocidad de 49 km/s.\n",
    "\n",
    "a = 25 \n",
    "b = 49\n",
    "\n",
    "if b > a:\n",
    "    print('¡ADVERTENCIA!, ¡Un asteroide se aproxima a gran velocidad a la tierra!')\n",
    "elif b < a:\n",
    "    print('No hay ningun peligro')\n"
   ]
  },
  {
   "cell_type": "code",
   "execution_count": 2,
   "metadata": {},
   "outputs": [
    {
     "name": "stdout",
     "output_type": "stream",
     "text": [
      "No hay ningun peligro\n"
     ]
    }
   ],
   "source": [
    "#Ejercicio 2\n",
    "#Hay uno que se dirige a la tierra ahora a una velocidad de 19 km/s\n",
    "\n",
    "a = 20\n",
    "b = 19\n",
    "\n",
    "if b > a:\n",
    "    print('¡IMPACTO DE ASTEROIDE!, se registro un destello de luz en la atmosfera de la tierra, esto es un posicle asteroide acercandose a gran velocidad, busque refugio.')\n",
    "elif b == a:\n",
    "    print('¡IMPACTO DE ASTEROIDE!, se registro un destello de luz en la atmosfera de la tierra, esto es un posicle asteroide acercandose a gran velocidad, busque refugio.')\n",
    "else:\n",
    "    print('No hay ningun peligro')"
   ]
  },
  {
   "cell_type": "code",
   "execution_count": 4,
   "metadata": {},
   "outputs": [
    {
     "name": "stdout",
     "output_type": "stream",
     "text": [
      "¡ADVERTENCIA!, ¡Un asteroide se aproxima a la tierra!\n"
     ]
    }
   ],
   "source": [
    "#Ejercicio 3\n",
    "a = 25\n",
    "b = 40\n",
    "if a > 25 or b > 25:\n",
    "    print('¡ADVERTENCIA!, ¡Un asteroide se aproxima a la tierra!')\n",
    "elif a >= 20:\n",
    "    print('¡IMPACTO DE ASTEROIDE!, se registro un destello de luz en la atmosfera de la tierra, esto es un posicle asteroide acercandose a gran velocidad, busque refugio.')\n",
    "elif b < 25:\n",
    "    print('No hay peligro')\n",
    "else:\n",
    "    print('No hay peligro')\n"
   ]
  }
 ],
 "metadata": {
  "interpreter": {
   "hash": "805b1454222fef596c737ad5cce137249c27489b998899e007b5a81779dcaf73"
  },
  "kernelspec": {
   "display_name": "Python 3.10.2 64-bit (windows store)",
   "language": "python",
   "name": "python3"
  },
  "language_info": {
   "codemirror_mode": {
    "name": "ipython",
    "version": 3
   },
   "file_extension": ".py",
   "mimetype": "text/x-python",
   "name": "python",
   "nbconvert_exporter": "python",
   "pygments_lexer": "ipython3",
   "version": "3.10.2"
  },
  "orig_nbformat": 4
 },
 "nbformat": 4,
 "nbformat_minor": 2
}
