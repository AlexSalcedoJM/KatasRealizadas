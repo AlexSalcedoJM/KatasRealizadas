{
 "cells": [
  {
   "cell_type": "markdown",
   "metadata": {},
   "source": [
    "### Ejercicio1"
   ]
  },
  {
   "cell_type": "code",
   "execution_count": 4,
   "metadata": {},
   "outputs": [
    {
     "name": "stdout",
     "output_type": "stream",
     "text": [
      "Hay 8 planetas en el sistema solar.\n"
     ]
    }
   ],
   "source": [
    "# Creamos la lista planets y la mostramos\n",
    "planets = ['Mercurio', 'Venus', 'Tierra', 'Marte', 'Júpiter','Saturno', 'Urano', 'Neptuno']\n",
    "number_planet = len(planets)\n",
    "print('Hay', number_planet, 'planetas en el sistema solar.')"
   ]
  },
  {
   "cell_type": "code",
   "execution_count": 5,
   "metadata": {},
   "outputs": [
    {
     "name": "stdout",
     "output_type": "stream",
     "text": [
      "Actualmente hay 9 plantas en el sistema solar.\n"
     ]
    }
   ],
   "source": [
    "# Agregamos a plutón y mostramos el último elemento\n",
    "planets.append('Plutón')\n",
    "number_planet = len(planets)\n",
    "print('Actualmente hay', number_planet, 'plantas en el sistema solar.')"
   ]
  },
  {
   "cell_type": "markdown",
   "metadata": {},
   "source": [
    "### Ejercicio2"
   ]
  },
  {
   "cell_type": "code",
   "execution_count": null,
   "metadata": {},
   "outputs": [],
   "source": [
    "# Lista de planetas\n",
    "planets = ['Mercurio', 'Venus', 'Tierra', 'Marte', 'Júpiter','Saturno', 'Urano', 'Neptuno']"
   ]
  },
  {
   "cell_type": "code",
   "execution_count": 16,
   "metadata": {},
   "outputs": [
    {
     "name": "stdout",
     "output_type": "stream",
     "text": [
      "El planeta Marte es el numero 3 en el sistema solar.\n",
      "Los planetas mas cercanos al sol que Marte son: ['Mercurio', 'Venus', 'Tierra']\n",
      "Los planetas mas lejanos al sol que Marte son: ['Júpiter', 'Saturno', 'Urano', 'Neptuno']\n"
     ]
    }
   ],
   "source": [
    "# Lista de planetas\n",
    "planets = ['Mercurio', 'Venus', 'Tierra', 'Marte', 'Júpiter','Saturno', 'Urano', 'Neptuno']\n",
    "# Solicitamos el nombre de un planeta\n",
    "nombre_planet = input('Ingrese el nombre del planeta: ')\n",
    "# Busca el planeta en la lista\n",
    "numero_de_planeta = planets.index(nombre_planet)\n",
    "print('El planeta', nombre_planet, 'es el numero', numero_de_planeta, 'en el sistema solar.')\n",
    "# Muestra los planetas más cercanos al sol\n",
    "print('Los planetas mas cercanos al sol que', nombre_planet,'son:' , planets[0:numero_de_planeta])\n",
    "# Muestra los planetas más lejanos al sol\n",
    "print('Los planetas mas lejanos al sol que', nombre_planet,'son:' , planets[numero_de_planeta + 1:])"
   ]
  }
 ],
 "metadata": {
  "interpreter": {
   "hash": "417739a5ad1577339257edc9a00965189002bed950c4fe0c168407fe75241b69"
  },
  "kernelspec": {
   "display_name": "Python 3.10.2 64-bit",
   "language": "python",
   "name": "python3"
  },
  "language_info": {
   "codemirror_mode": {
    "name": "ipython",
    "version": 3
   },
   "file_extension": ".py",
   "mimetype": "text/x-python",
   "name": "python",
   "nbconvert_exporter": "python",
   "pygments_lexer": "ipython3",
   "version": "3.10.2"
  },
  "orig_nbformat": 4
 },
 "nbformat": 4,
 "nbformat_minor": 2
}
